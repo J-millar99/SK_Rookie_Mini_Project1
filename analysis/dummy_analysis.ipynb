{
 "cells": [
  {
   "cell_type": "markdown",
   "id": "b9d83015",
   "metadata": {},
   "source": [
    "## 더미 데이터 넣어서 프레임 구조 확인"
   ]
  },
  {
   "cell_type": "code",
   "execution_count": 3,
   "id": "35b93beb",
   "metadata": {},
   "outputs": [
    {
     "name": "stdout",
     "output_type": "stream",
     "text": [
      "         title job_group job_subgroup employment_type location   salary  \\\n",
      "0   백엔드 개발자 채용        IT          백엔드             정규직  서울시 강남구  4,000만원   \n",
      "1  프론트엔드 인턴 모집        IT        프론트엔드              인턴  서울시 마포구  월 150만원   \n",
      "2      데이터 분석가       데이터        데이터분석             정규직   경기 성남시  3,500만원   \n",
      "3       마케팅 인턴       마케팅       콘텐츠마케팅              인턴  부산 해운대구  월 130만원   \n",
      "4      백엔드 개발자        IT          백엔드             정규직  서울시 종로구       협의   \n",
      "\n",
      "  career education    deadline   company_tags  \n",
      "0  3년 이상        대졸  2025-05-10   [유연근무, 자율복장]  \n",
      "1     무관        무관  2025-04-25  [스타트업, 점심 제공]  \n",
      "2  1년 이상        대졸  2025-05-01        [AI 기업]  \n",
      "3     무관        무관  2025-04-30        [MZ 기업]  \n",
      "4     무관      초대졸↑  2025-05-15         [복지카페]  \n"
     ]
    }
   ],
   "source": [
    "import pandas as pd\n",
    "from pprint import pprint\n",
    "\n",
    "sample_data=pd.read_json('../data/sample_dummy.json')\n",
    "\n",
    "df = pd.DataFrame(sample_data)\n",
    "pprint(df.head())"
   ]
  },
  {
   "cell_type": "markdown",
   "id": "bd424468",
   "metadata": {},
   "source": [
    "## 지역별 채용 공고 수 분포"
   ]
  },
  {
   "cell_type": "code",
   "execution_count": 12,
   "id": "3910ec3a",
   "metadata": {},
   "outputs": [
    {
     "name": "stdout",
     "output_type": "stream",
     "text": [
      "city\n",
      "서울시    6\n",
      "경기     3\n",
      "부산     2\n",
      "대전     1\n",
      "인천     1\n",
      "대구     1\n",
      "세종시    1\n",
      "Name: count, dtype: int64\n"
     ]
    }
   ],
   "source": [
    "#'시' column 새로 만듦\n",
    "df['city'] = df['location'].apply(lambda x: x.split()[0])\n",
    "city_counts = df['city'].value_counts()\n",
    "print(city_counts)"
   ]
  },
  {
   "cell_type": "markdown",
   "id": "ac169683",
   "metadata": {},
   "source": [
    "### 지역별 직군 분포 테이블"
   ]
  },
  {
   "cell_type": "code",
   "execution_count": 13,
   "id": "290d9dea",
   "metadata": {},
   "outputs": [
    {
     "name": "stdout",
     "output_type": "stream",
     "text": [
      "job_group  IT  경영지원  데이터  디자인  마케팅\n",
      "city                              \n",
      "경기          1     0    1    1    0\n",
      "대구          0     1    0    0    0\n",
      "대전          0     0    1    0    0\n",
      "부산          1     0    0    0    1\n",
      "서울시         3     1    1    1    0\n",
      "세종시         0     0    1    0    0\n",
      "인천          0     0    0    0    1\n"
     ]
    }
   ],
   "source": [
    "city_job_dist = pd.crosstab(df['city'],df['job_group'])\n",
    "print(city_job_dist)"
   ]
  },
  {
   "cell_type": "markdown",
   "id": "95cb66b6",
   "metadata": {},
   "source": [
    "## 고용 형태 분포 확인"
   ]
  },
  {
   "cell_type": "code",
   "execution_count": 4,
   "id": "f4656abe",
   "metadata": {},
   "outputs": [
    {
     "name": "stdout",
     "output_type": "stream",
     "text": [
      "employment_type\n",
      "정규직    8\n",
      "인턴     4\n",
      "계약직    3\n",
      "Name: count, dtype: int64\n"
     ]
    }
   ],
   "source": [
    "print(df['employment_type'].value_counts())"
   ]
  },
  {
   "cell_type": "markdown",
   "id": "8a535345",
   "metadata": {},
   "source": [
    "### 직군별 고용 형태 분포 테이블"
   ]
  },
  {
   "cell_type": "code",
   "execution_count": null,
   "id": "da4ad1cd",
   "metadata": {},
   "outputs": [
    {
     "name": "stdout",
     "output_type": "stream",
     "text": [
      "employment_type  계약직  인턴  정규직\n",
      "job_group                    \n",
      "IT                 1   1    3\n",
      "경영지원               1   1    0\n",
      "데이터                1   1    2\n",
      "디자인                0   0    2\n",
      "마케팅                0   1    1\n"
     ]
    }
   ],
   "source": [
    "job_employment_dist = pd.crosstab(df['job_group'],df['employment_type'])\n",
    "print(job_employment_dist)"
   ]
  },
  {
   "cell_type": "markdown",
   "id": "8da3b43f",
   "metadata": {},
   "source": [
    "### 하위 직군별 고용 형태 분포 테이블\n",
    "* job_group > job_subgroup \n",
    "* 계층적으로 고용형태 분포"
   ]
  },
  {
   "cell_type": "code",
   "execution_count": null,
   "id": "7acf0aaf",
   "metadata": {},
   "outputs": [
    {
     "name": "stdout",
     "output_type": "stream",
     "text": [
      "employment_type         계약직  인턴  정규직\n",
      "job_group job_subgroup              \n",
      "IT        백엔드             1   0    2\n",
      "          프론트엔드           0   1    1\n",
      "경영지원      인사/총무           1   1    0\n",
      "데이터       데이터리서치          1   0    0\n",
      "          데이터분석           0   1    1\n",
      "          데이터엔지니어링        0   0    1\n",
      "디자인       UI/UX           0   0    1\n",
      "          그래픽디자인          0   0    1\n",
      "마케팅       브랜드마케팅          0   0    1\n",
      "          콘텐츠마케팅          0   1    0\n"
     ]
    }
   ],
   "source": [
    "subjob_employment_dist = pd.crosstab([df['job_group'],df['job_subgroup']],df['employment_type'])\n",
    "\n",
    "print(subjob_employment_dist)"
   ]
  },
  {
   "cell_type": "markdown",
   "id": "6317c209",
   "metadata": {},
   "source": [
    "## 경력 사항 분포 확인"
   ]
  },
  {
   "cell_type": "code",
   "execution_count": 7,
   "id": "301a49aa",
   "metadata": {},
   "outputs": [
    {
     "name": "stdout",
     "output_type": "stream",
     "text": [
      "career\n",
      "무관       7\n",
      "1년 이상    3\n",
      "2년 이상    3\n",
      "3년 이상    1\n",
      "4년 이상    1\n",
      "Name: count, dtype: int64\n"
     ]
    }
   ],
   "source": [
    "print(df['career'].value_counts())"
   ]
  },
  {
   "cell_type": "markdown",
   "id": "96594cee",
   "metadata": {},
   "source": [
    "### 직군별 경력 사항 분포 테이블"
   ]
  },
  {
   "cell_type": "code",
   "execution_count": 8,
   "id": "f4a0f824",
   "metadata": {},
   "outputs": [
    {
     "name": "stdout",
     "output_type": "stream",
     "text": [
      "career     1년 이상  2년 이상  3년 이상  4년 이상  무관\n",
      "job_group                                \n",
      "IT             1      1      1      0   2\n",
      "경영지원           0      0      0      0   2\n",
      "데이터            2      0      0      1   1\n",
      "디자인            0      1      0      0   1\n",
      "마케팅            0      1      0      0   1\n"
     ]
    }
   ],
   "source": [
    "job_career_dist = pd.crosstab(df['job_group'],df['career'])\n",
    "print(job_career_dist)"
   ]
  },
  {
   "cell_type": "markdown",
   "id": "6eb0d5d0",
   "metadata": {},
   "source": [
    "### 하위 직군별 경력 사항 분포 테이블\n",
    "* job_group > job_subgroup \n",
    "* 계층적으로 경력사항 분포"
   ]
  },
  {
   "cell_type": "code",
   "execution_count": 9,
   "id": "ac9e4209",
   "metadata": {},
   "outputs": [
    {
     "name": "stdout",
     "output_type": "stream",
     "text": [
      "career                  1년 이상  2년 이상  3년 이상  4년 이상  무관\n",
      "job_group job_subgroup                                \n",
      "IT        백엔드               1      0      1      0   1\n",
      "          프론트엔드             0      1      0      0   1\n",
      "경영지원      인사/총무             0      0      0      0   2\n",
      "데이터       데이터리서치            1      0      0      0   0\n",
      "          데이터분석             1      0      0      0   1\n",
      "          데이터엔지니어링          0      0      0      1   0\n",
      "디자인       UI/UX             0      1      0      0   0\n",
      "          그래픽디자인            0      0      0      0   1\n",
      "마케팅       브랜드마케팅            0      1      0      0   0\n",
      "          콘텐츠마케팅            0      0      0      0   1\n"
     ]
    }
   ],
   "source": [
    "subjob_career_dist = pd.crosstab([df['job_group'],df['job_subgroup']],df['career'])\n",
    "print(subjob_career_dist)"
   ]
  }
 ],
 "metadata": {
  "kernelspec": {
   "display_name": "base",
   "language": "python",
   "name": "python3"
  },
  "language_info": {
   "codemirror_mode": {
    "name": "ipython",
    "version": 3
   },
   "file_extension": ".py",
   "mimetype": "text/x-python",
   "name": "python",
   "nbconvert_exporter": "python",
   "pygments_lexer": "ipython3",
   "version": "3.12.2"
  }
 },
 "nbformat": 4,
 "nbformat_minor": 5
}
