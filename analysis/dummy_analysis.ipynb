{
 "cells": [
  {
   "cell_type": "markdown",
   "id": "b9d83015",
   "metadata": {},
   "source": [
    "## 더미 데이터 넣어서 프레임 구조 확인"
   ]
  },
  {
   "cell_type": "code",
   "execution_count": 2,
   "id": "35b93beb",
   "metadata": {},
   "outputs": [
    {
     "name": "stdout",
     "output_type": "stream",
     "text": [
      "    company        title job_group job_subgroup employment_type   location  \\\n",
      "0  ABC Corp   백엔드 개발자 채용        IT          백엔드             정규직  서울시 > 강남구   \n",
      "1  company1  프론트엔드 인턴 모집        IT        프론트엔드              인턴  서울시 > 마포구   \n",
      "2  company2      데이터 분석가       데이터        데이터분석             계약직   경기 > 성남시   \n",
      "3  company3       마케팅 인턴       마케팅       콘텐츠마케팅              인턴  부산 > 해운대구   \n",
      "4  company4      백엔드 개발자        IT          백엔드             정규직  서울시 > 종로구   \n",
      "\n",
      "    salary career education    deadline   company_tags probation  \\\n",
      "0  4,000만원  5년 이상     대졸 이상  2025-05-10   [유연근무, 자율복장]             \n",
      "1  월 150만원  5년 이상        무관  2025-04-25  [스타트업, 점심 제공]             \n",
      "2  3,500만원  1년 이상     대졸 이상  2025-05-01        [AI 기업]             \n",
      "3  월 130만원     신입        무관  2025-04-30        [MZ 기업]        협의   \n",
      "4       협의     무관     대졸 이상  2025-05-15         [복지카페]             \n",
      "\n",
      "  probation_months probation_years probation_weeks city  \n",
      "0                3                                   서울  \n",
      "1                                                1   서울  \n",
      "2                                1                   성남  \n",
      "3                                                    부산  \n",
      "4                                                    서울  \n"
     ]
    }
   ],
   "source": [
    "import pandas as pd\n",
    "from pprint import pprint\n",
    "\n",
    "sample_data=pd.read_json('../data/cleaned_data.json')\n",
    "\n",
    "df = pd.DataFrame(sample_data)\n",
    "pprint(df.head())"
   ]
  },
  {
   "cell_type": "markdown",
   "id": "bd424468",
   "metadata": {},
   "source": [
    "## 지역별 채용 공고 수 분포"
   ]
  },
  {
   "cell_type": "code",
   "execution_count": 3,
   "id": "3910ec3a",
   "metadata": {},
   "outputs": [
    {
     "name": "stdout",
     "output_type": "stream",
     "text": [
      "city\n",
      "서울    6\n",
      "부산    2\n",
      "성남    1\n",
      "대전    1\n",
      "수원    1\n",
      "인천    1\n",
      "대구    1\n",
      "고양    1\n",
      "세종    1\n",
      "Name: count, dtype: int64\n"
     ]
    }
   ],
   "source": [
    "city_counts = df['city'].value_counts()\n",
    "print(city_counts)"
   ]
  },
  {
   "cell_type": "code",
   "execution_count": 4,
   "id": "bd9717f1",
   "metadata": {},
   "outputs": [
    {
     "name": "stdout",
     "output_type": "stream",
     "text": [
      "Requirement already satisfied: folium in /Users/jo-eunji/anaconda3/lib/python3.12/site-packages (0.19.5)\n",
      "Requirement already satisfied: branca>=0.6.0 in /Users/jo-eunji/anaconda3/lib/python3.12/site-packages (from folium) (0.8.1)\n",
      "Requirement already satisfied: jinja2>=2.9 in /Users/jo-eunji/anaconda3/lib/python3.12/site-packages (from folium) (3.1.4)\n",
      "Requirement already satisfied: numpy in /Users/jo-eunji/anaconda3/lib/python3.12/site-packages (from folium) (1.26.4)\n",
      "Requirement already satisfied: requests in /Users/jo-eunji/anaconda3/lib/python3.12/site-packages (from folium) (2.32.3)\n",
      "Requirement already satisfied: xyzservices in /Users/jo-eunji/anaconda3/lib/python3.12/site-packages (from folium) (2022.9.0)\n",
      "Requirement already satisfied: MarkupSafe>=2.0 in /Users/jo-eunji/anaconda3/lib/python3.12/site-packages (from jinja2>=2.9->folium) (2.1.3)\n",
      "Requirement already satisfied: charset-normalizer<4,>=2 in /Users/jo-eunji/anaconda3/lib/python3.12/site-packages (from requests->folium) (3.3.2)\n",
      "Requirement already satisfied: idna<4,>=2.5 in /Users/jo-eunji/anaconda3/lib/python3.12/site-packages (from requests->folium) (3.7)\n",
      "Requirement already satisfied: urllib3<3,>=1.21.1 in /Users/jo-eunji/anaconda3/lib/python3.12/site-packages (from requests->folium) (2.2.3)\n",
      "Requirement already satisfied: certifi>=2017.4.17 in /Users/jo-eunji/anaconda3/lib/python3.12/site-packages (from requests->folium) (2025.1.31)\n",
      "Note: you may need to restart the kernel to use updated packages.\n"
     ]
    }
   ],
   "source": [
    "#시각화 \n",
    "%pip install folium\n",
    "import streamlit as st"
   ]
  },
  {
   "cell_type": "code",
   "execution_count": 5,
   "id": "764d28d3",
   "metadata": {},
   "outputs": [],
   "source": [
    "city_counts = df['city'].value_counts().reset_index()\n",
    "city_counts.columns = ['city', 'count']\n",
    "\n",
    "city_coords = { #주요 도시 좌표 매핑\n",
    "    \"서울\": [37.5665, 126.9780],\n",
    "    \"부산\": [35.1796, 129.0756],\n",
    "    \"대구\": [35.8722, 128.6025],\n",
    "    \"광주\": [35.1595, 126.8526],\n",
    "    \"대전\": [36.3504, 127.3845],\n",
    "    \"세종\": [36.4800, 127.2890],\n",
    "    \"수원\": [37.2636, 127.0286],\n",
    "    \"제주\": [33.4996, 126.5312],\n",
    "    \"창원\": [35.2283, 128.6811]\n",
    "}\n",
    "\n",
    "import folium\n",
    "\n",
    "\n",
    "# 지도 생성 (중심은 한국 중부)\n",
    "job_map = folium.Map(location=[36.5, 127.8], zoom_start=8)\n",
    "\n",
    "# 마커 추가\n",
    "for _, row in city_counts.iterrows():\n",
    "    city = row['city']\n",
    "    count = row['count']\n",
    "    coords = city_coords.get(city)\n",
    "\n",
    "    if coords:\n",
    "       folium.Marker(\n",
    "            location=coords,\n",
    "            icon=folium.DivIcon(html=f\"\"\"\n",
    "        <div style=\"\n",
    "            width: 40px;\n",
    "            height: 40px;\n",
    "            background-color: rgba(255, 255, 255, 0.8);  /* 연한 빨강 배경 */\n",
    "            color: #0037FFFF;                           /* 진한 빨강 글씨 */\n",
    "            border: 2px solid #3F3F3FFF;\n",
    "            border-radius: 50%;                       /* 동그라미 핵심 */\n",
    "            font-size: 15px;\n",
    "            font-weight: bold;\n",
    "            display: flex;\n",
    "            align-items: center;\n",
    "            justify-content: center;\n",
    "            text-align: center;\n",
    "            box-shadow: 1px 1px 3px rgba(0,0,0,0.2);\n",
    "        \">\n",
    "            {count}\n",
    "        </div>\n",
    "    \"\"\"),\n",
    "            tooltip=city  # 마우스를 올리면 도시명\n",
    "        ).add_to(job_map)\n",
    "# 결과 저장 (혹은 Streamlit에서 바로 출력 가능)\n",
    "job_map.save(\"city_job_marker_map.html\")\n"
   ]
  },
  {
   "cell_type": "markdown",
   "id": "ac169683",
   "metadata": {},
   "source": [
    "### 지역별 직군 분포 테이블"
   ]
  },
  {
   "cell_type": "code",
   "execution_count": 6,
   "id": "290d9dea",
   "metadata": {},
   "outputs": [
    {
     "name": "stdout",
     "output_type": "stream",
     "text": [
      "job_group  IT  경영지원  데이터  디자인  마케팅\n",
      "city                              \n",
      "고양          1     0    0    0    0\n",
      "대구          0     1    0    0    0\n",
      "대전          0     0    1    0    0\n",
      "부산          1     0    0    0    1\n",
      "서울          3     1    1    1    0\n",
      "성남          0     0    1    0    0\n",
      "세종          0     0    1    0    0\n",
      "수원          0     0    0    1    0\n",
      "인천          0     0    0    0    1\n"
     ]
    }
   ],
   "source": [
    "city_job_dist = pd.crosstab(df['city'],df['job_group'])\n",
    "print(city_job_dist)"
   ]
  },
  {
   "cell_type": "markdown",
   "id": "95cb66b6",
   "metadata": {},
   "source": [
    "## 고용 형태 분포 확인"
   ]
  },
  {
   "cell_type": "code",
   "execution_count": 7,
   "id": "f4656abe",
   "metadata": {},
   "outputs": [
    {
     "name": "stdout",
     "output_type": "stream",
     "text": [
      "employment_type\n",
      "정규직    7\n",
      "인턴     4\n",
      "계약직    4\n",
      "Name: count, dtype: int64\n"
     ]
    }
   ],
   "source": [
    "print(df['employment_type'].value_counts())"
   ]
  },
  {
   "cell_type": "markdown",
   "id": "8a535345",
   "metadata": {},
   "source": [
    "### 직군별 고용 형태 분포 테이블"
   ]
  },
  {
   "cell_type": "code",
   "execution_count": 8,
   "id": "da4ad1cd",
   "metadata": {},
   "outputs": [
    {
     "name": "stdout",
     "output_type": "stream",
     "text": [
      "employment_type  계약직  인턴  정규직\n",
      "job_group                    \n",
      "IT                 1   1    3\n",
      "경영지원               1   1    0\n",
      "데이터                2   1    1\n",
      "디자인                0   0    2\n",
      "마케팅                0   1    1\n"
     ]
    }
   ],
   "source": [
    "job_employment_dist = pd.crosstab(df['job_group'],df['employment_type'])\n",
    "print(job_employment_dist)"
   ]
  },
  {
   "cell_type": "markdown",
   "id": "8da3b43f",
   "metadata": {},
   "source": [
    "### 하위 직군별 고용 형태 분포 테이블\n",
    "* job_group > job_subgroup \n",
    "* 계층적으로 고용형태 분포"
   ]
  },
  {
   "cell_type": "code",
   "execution_count": 9,
   "id": "7acf0aaf",
   "metadata": {},
   "outputs": [
    {
     "name": "stdout",
     "output_type": "stream",
     "text": [
      "employment_type         계약직  인턴  정규직\n",
      "job_group job_subgroup              \n",
      "IT        백엔드             1   0    2\n",
      "          프론트엔드           0   1    1\n",
      "경영지원      인사/총무           1   1    0\n",
      "데이터       데이터리서치          1   0    0\n",
      "          데이터분석           1   1    0\n",
      "          데이터엔지니어링        0   0    1\n",
      "디자인       UI/UX           0   0    1\n",
      "          그래픽디자인          0   0    1\n",
      "마케팅       브랜드마케팅          0   0    1\n",
      "          콘텐츠마케팅          0   1    0\n"
     ]
    }
   ],
   "source": [
    "subjob_employment_dist = pd.crosstab([df['job_group'],df['job_subgroup']],df['employment_type'])\n",
    "\n",
    "print(subjob_employment_dist)"
   ]
  },
  {
   "cell_type": "markdown",
   "id": "6317c209",
   "metadata": {},
   "source": [
    "## 경력 사항 분포 확인"
   ]
  },
  {
   "cell_type": "code",
   "execution_count": 10,
   "id": "301a49aa",
   "metadata": {},
   "outputs": [
    {
     "name": "stdout",
     "output_type": "stream",
     "text": [
      "career\n",
      "무관       5\n",
      "1년 이상    3\n",
      "2년 이상    3\n",
      "5년 이상    2\n",
      "신입       1\n",
      "4년 이상    1\n",
      "Name: count, dtype: int64\n"
     ]
    }
   ],
   "source": [
    "print(df['career'].value_counts())"
   ]
  },
  {
   "cell_type": "markdown",
   "id": "96594cee",
   "metadata": {},
   "source": [
    "### 직군별 경력 사항 분포 테이블"
   ]
  },
  {
   "cell_type": "code",
   "execution_count": 11,
   "id": "f4a0f824",
   "metadata": {},
   "outputs": [
    {
     "name": "stdout",
     "output_type": "stream",
     "text": [
      "career     1년 이상  2년 이상  4년 이상  5년 이상  무관  신입\n",
      "job_group                                    \n",
      "IT             1      1      0      2   1   0\n",
      "경영지원           0      0      0      0   2   0\n",
      "데이터            2      0      1      0   1   0\n",
      "디자인            0      1      0      0   1   0\n",
      "마케팅            0      1      0      0   0   1\n"
     ]
    }
   ],
   "source": [
    "job_career_dist = pd.crosstab(df['job_group'],df['career'])\n",
    "print(job_career_dist)"
   ]
  },
  {
   "cell_type": "code",
   "execution_count": 12,
   "id": "5d1ba458",
   "metadata": {},
   "outputs": [
    {
     "name": "stdout",
     "output_type": "stream",
     "text": [
      "job_group\n",
      "IT      2.6\n",
      "경영지원    0.0\n",
      "데이터     1.5\n",
      "디자인     1.0\n",
      "마케팅     1.0\n",
      "dtype: float64\n"
     ]
    }
   ],
   "source": [
    "# 직군별 평균 경력 연차\n",
    "career_to_year = {\n",
    "    '1년 이상': 1,\n",
    "    '2년 이상': 2,\n",
    "    '3년 이상': 3,\n",
    "    '4년 이상': 4,\n",
    "    '5년 이상': 5,\n",
    "    '무관': 0,\n",
    "    '신입': 0\n",
    "}\n",
    "\n",
    "# 경력 연차 * 해당 count → 총합\n",
    "numerator = job_career_dist.mul([career_to_year.get(c, 0) for c in job_career_dist.columns], axis=1).sum(axis=1)\n",
    "\n",
    "# 전체 공고 수\n",
    "denominator = job_career_dist.sum(axis=1)\n",
    "\n",
    "# 평균 연차 = 총합 / 개수\n",
    "job_group_avg_years = (numerator / denominator).round(2)\n",
    "\n",
    "print(job_group_avg_years)"
   ]
  },
  {
   "cell_type": "code",
   "execution_count": 13,
   "id": "1164fe4f",
   "metadata": {},
   "outputs": [
    {
     "name": "stderr",
     "output_type": "stream",
     "text": [
      "/var/folders/_v/wx55df5j41zc0569fdhw7mv40000gn/T/ipykernel_849/2990995548.py:29: UserWarning: FigureCanvasAgg is non-interactive, and thus cannot be shown\n",
      "  plt.show()\n"
     ]
    }
   ],
   "source": [
    "# 시각화\n",
    "import matplotlib.pyplot as plt\n",
    "import seaborn as sns\n",
    "import platform\n",
    "\n",
    "if platform.system() == 'Darwin':  # macOS\n",
    "    plt.rc('font', family='AppleGothic')\n",
    "elif platform.system() == 'Windows':  # Windows\n",
    "    plt.rc('font', family='Malgun Gothic')\n",
    "else:  # Linux (colab, ubuntu 등)\n",
    "    plt.rc('font', family='NanumGothic')\n",
    "\n",
    "# 마이너스 깨짐 방지\n",
    "plt.rcParams['axes.unicode_minus'] = False\n",
    "\n",
    "# Series를 DataFrame으로 변환\n",
    "df_avg = job_group_avg_years.reset_index()\n",
    "df_avg.columns = ['job_group', 'career_years']\n",
    "\n",
    "# 시각화\n",
    "plt.figure(figsize=(8, 5))\n",
    "sns.pointplot(data=df_avg.sort_values(by='career_years',ascending=False), x='job_group', y='career_years', color='skyblue')\n",
    "\n",
    "plt.title(\"직군별 평균 경력 조건 (년)\")\n",
    "plt.xlabel(\"직군\")\n",
    "plt.ylabel(\"평균 경력 연차\")\n",
    "plt.xticks(rotation=45)\n",
    "plt.tight_layout()\n",
    "plt.show()"
   ]
  },
  {
   "cell_type": "markdown",
   "id": "6eb0d5d0",
   "metadata": {},
   "source": [
    "### 하위 직군별 경력 사항 분포 테이블\n",
    "* job_group > job_subgroup \n",
    "* 계층적으로 경력사항 분포"
   ]
  },
  {
   "cell_type": "code",
   "execution_count": 14,
   "id": "ac9e4209",
   "metadata": {},
   "outputs": [
    {
     "name": "stdout",
     "output_type": "stream",
     "text": [
      "career                  1년 이상  2년 이상  4년 이상  5년 이상  무관  신입\n",
      "job_group job_subgroup                                    \n",
      "IT        백엔드               1      0      0      1   1   0\n",
      "          프론트엔드             0      1      0      1   0   0\n",
      "경영지원      인사/총무             0      0      0      0   2   0\n",
      "데이터       데이터리서치            1      0      0      0   0   0\n",
      "          데이터분석             1      0      0      0   1   0\n",
      "          데이터엔지니어링          0      0      1      0   0   0\n",
      "디자인       UI/UX             0      1      0      0   0   0\n",
      "          그래픽디자인            0      0      0      0   1   0\n",
      "마케팅       브랜드마케팅            0      1      0      0   0   0\n",
      "          콘텐츠마케팅            0      0      0      0   0   1\n"
     ]
    }
   ],
   "source": [
    "subjob_career_dist = pd.crosstab([df['job_group'],df['job_subgroup']],df['career'])\n",
    "print(subjob_career_dist)"
   ]
  },
  {
   "cell_type": "code",
   "execution_count": 15,
   "id": "41369ac4",
   "metadata": {},
   "outputs": [],
   "source": [
    "# 직군별 평균 경력 연차\n",
    "career_to_year = {\n",
    "    '1년 이상': 1,\n",
    "    '2년 이상': 2,\n",
    "    '3년 이상': 3,\n",
    "    '4년 이상': 4,\n",
    "    '5년 이상': 5,\n",
    "    '무관': 0,\n",
    "    '신입': 0\n",
    "}\n",
    "\n",
    "# 각 셀에 경력 연차 수치 곱하기\n",
    "weighted = subjob_career_dist.mul([career_to_year.get(c, 0) for c in subjob_career_dist.columns], axis=1)\n",
    "\n",
    "# 평균 = 총합 / 전체 공고 수\n",
    "numerator = weighted.sum(axis=1)\n",
    "denominator = subjob_career_dist.sum(axis=1)\n",
    "subjob_avg_years = (numerator / denominator).round(2)\n",
    "\n",
    "# 결과를 DataFrame으로 정리\n",
    "df_subjob_avg = subjob_avg_years.reset_index()\n",
    "df_subjob_avg.columns = ['job_group', 'job_subgroup', 'career_years']"
   ]
  },
  {
   "cell_type": "code",
   "execution_count": 16,
   "id": "0afa352a",
   "metadata": {},
   "outputs": [
    {
     "name": "stderr",
     "output_type": "stream",
     "text": [
      "/var/folders/_v/wx55df5j41zc0569fdhw7mv40000gn/T/ipykernel_849/143524590.py:13: UserWarning: FigureCanvasAgg is non-interactive, and thus cannot be shown\n",
      "  plt.show()\n"
     ]
    }
   ],
   "source": [
    "#시각화\n",
    "import seaborn as sns\n",
    "import matplotlib.pyplot as plt\n",
    "\n",
    "plt.figure(figsize=(10, 6))\n",
    "sns.barplot(data=df_subjob_avg, x='job_subgroup', y='career_years', hue='job_group', palette='pastel')\n",
    "\n",
    "plt.title(\"하위 직군별 평균 경력 조건 (년)\")\n",
    "plt.xlabel(\"하위 직군 (job_subgroup)\")\n",
    "plt.ylabel(\"평균 경력 연차\")\n",
    "plt.xticks(rotation=45)\n",
    "plt.tight_layout()\n",
    "plt.show()"
   ]
  },
  {
   "cell_type": "markdown",
   "id": "49e81aac",
   "metadata": {},
   "source": [
    "## 직군별 평균 급여"
   ]
  },
  {
   "cell_type": "code",
   "execution_count": 38,
   "id": "152873f2",
   "metadata": {},
   "outputs": [
    {
     "data": {
      "text/html": [
       "<div>\n",
       "<style scoped>\n",
       "    .dataframe tbody tr th:only-of-type {\n",
       "        vertical-align: middle;\n",
       "    }\n",
       "\n",
       "    .dataframe tbody tr th {\n",
       "        vertical-align: top;\n",
       "    }\n",
       "\n",
       "    .dataframe thead th {\n",
       "        text-align: right;\n",
       "    }\n",
       "</style>\n",
       "<table border=\"1\" class=\"dataframe\">\n",
       "  <thead>\n",
       "    <tr style=\"text-align: right;\">\n",
       "      <th></th>\n",
       "      <th>company</th>\n",
       "      <th>title</th>\n",
       "      <th>job_group</th>\n",
       "      <th>job_subgroup</th>\n",
       "      <th>employment_type</th>\n",
       "      <th>location</th>\n",
       "      <th>salary</th>\n",
       "      <th>career</th>\n",
       "      <th>education</th>\n",
       "      <th>deadline</th>\n",
       "      <th>company_tags</th>\n",
       "      <th>probation</th>\n",
       "      <th>probation_months</th>\n",
       "      <th>probation_years</th>\n",
       "      <th>probation_weeks</th>\n",
       "      <th>city</th>\n",
       "      <th>salary_num</th>\n",
       "    </tr>\n",
       "  </thead>\n",
       "  <tbody>\n",
       "    <tr>\n",
       "      <th>0</th>\n",
       "      <td>ABC Corp</td>\n",
       "      <td>백엔드 개발자 채용</td>\n",
       "      <td>IT</td>\n",
       "      <td>백엔드</td>\n",
       "      <td>정규직</td>\n",
       "      <td>서울시 &gt; 강남구</td>\n",
       "      <td>4,000만원</td>\n",
       "      <td>5년 이상</td>\n",
       "      <td>대졸 이상</td>\n",
       "      <td>2025-05-10</td>\n",
       "      <td>[유연근무, 자율복장]</td>\n",
       "      <td></td>\n",
       "      <td>3</td>\n",
       "      <td></td>\n",
       "      <td></td>\n",
       "      <td>서울</td>\n",
       "      <td>4000.0</td>\n",
       "    </tr>\n",
       "    <tr>\n",
       "      <th>1</th>\n",
       "      <td>company1</td>\n",
       "      <td>프론트엔드 인턴 모집</td>\n",
       "      <td>IT</td>\n",
       "      <td>프론트엔드</td>\n",
       "      <td>인턴</td>\n",
       "      <td>서울시 &gt; 마포구</td>\n",
       "      <td>월 150만원</td>\n",
       "      <td>5년 이상</td>\n",
       "      <td>무관</td>\n",
       "      <td>2025-04-25</td>\n",
       "      <td>[스타트업, 점심 제공]</td>\n",
       "      <td></td>\n",
       "      <td></td>\n",
       "      <td></td>\n",
       "      <td>1</td>\n",
       "      <td>서울</td>\n",
       "      <td>150.0</td>\n",
       "    </tr>\n",
       "    <tr>\n",
       "      <th>2</th>\n",
       "      <td>company2</td>\n",
       "      <td>데이터 분석가</td>\n",
       "      <td>데이터</td>\n",
       "      <td>데이터분석</td>\n",
       "      <td>계약직</td>\n",
       "      <td>경기 &gt; 성남시</td>\n",
       "      <td>3,500만원</td>\n",
       "      <td>1년 이상</td>\n",
       "      <td>대졸 이상</td>\n",
       "      <td>2025-05-01</td>\n",
       "      <td>[AI 기업]</td>\n",
       "      <td></td>\n",
       "      <td></td>\n",
       "      <td>1</td>\n",
       "      <td></td>\n",
       "      <td>성남</td>\n",
       "      <td>3500.0</td>\n",
       "    </tr>\n",
       "    <tr>\n",
       "      <th>3</th>\n",
       "      <td>company3</td>\n",
       "      <td>마케팅 인턴</td>\n",
       "      <td>마케팅</td>\n",
       "      <td>콘텐츠마케팅</td>\n",
       "      <td>인턴</td>\n",
       "      <td>부산 &gt; 해운대구</td>\n",
       "      <td>월 130만원</td>\n",
       "      <td>신입</td>\n",
       "      <td>무관</td>\n",
       "      <td>2025-04-30</td>\n",
       "      <td>[MZ 기업]</td>\n",
       "      <td>협의</td>\n",
       "      <td></td>\n",
       "      <td></td>\n",
       "      <td></td>\n",
       "      <td>부산</td>\n",
       "      <td>130.0</td>\n",
       "    </tr>\n",
       "    <tr>\n",
       "      <th>5</th>\n",
       "      <td>company5</td>\n",
       "      <td>데이터 엔지니어</td>\n",
       "      <td>데이터</td>\n",
       "      <td>데이터엔지니어링</td>\n",
       "      <td>정규직</td>\n",
       "      <td>대전 &gt; 유성구</td>\n",
       "      <td>4,800만원</td>\n",
       "      <td>4년 이상</td>\n",
       "      <td>대졸 이상</td>\n",
       "      <td>2025-05-07</td>\n",
       "      <td>[리모트, 자기계발]</td>\n",
       "      <td></td>\n",
       "      <td></td>\n",
       "      <td></td>\n",
       "      <td></td>\n",
       "      <td>대전</td>\n",
       "      <td>4800.0</td>\n",
       "    </tr>\n",
       "    <tr>\n",
       "      <th>6</th>\n",
       "      <td>company6</td>\n",
       "      <td>HR 사무직</td>\n",
       "      <td>경영지원</td>\n",
       "      <td>인사/총무</td>\n",
       "      <td>계약직</td>\n",
       "      <td>서울시 &gt; 강서구</td>\n",
       "      <td>연 2,600만원</td>\n",
       "      <td>무관</td>\n",
       "      <td>고졸 이상</td>\n",
       "      <td>2025-04-28</td>\n",
       "      <td>[식대 지원]</td>\n",
       "      <td></td>\n",
       "      <td></td>\n",
       "      <td></td>\n",
       "      <td></td>\n",
       "      <td>서울</td>\n",
       "      <td>2600.0</td>\n",
       "    </tr>\n",
       "    <tr>\n",
       "      <th>7</th>\n",
       "      <td>company7</td>\n",
       "      <td>UX 디자이너</td>\n",
       "      <td>디자인</td>\n",
       "      <td>UI/UX</td>\n",
       "      <td>정규직</td>\n",
       "      <td>경기 &gt; 수원시</td>\n",
       "      <td>3,000만원</td>\n",
       "      <td>2년 이상</td>\n",
       "      <td>대졸 이상</td>\n",
       "      <td>2025-05-03</td>\n",
       "      <td>[워라밸]</td>\n",
       "      <td></td>\n",
       "      <td></td>\n",
       "      <td></td>\n",
       "      <td></td>\n",
       "      <td>수원</td>\n",
       "      <td>3000.0</td>\n",
       "    </tr>\n",
       "    <tr>\n",
       "      <th>8</th>\n",
       "      <td>company8</td>\n",
       "      <td>데이터 분석 인턴</td>\n",
       "      <td>데이터</td>\n",
       "      <td>데이터분석</td>\n",
       "      <td>인턴</td>\n",
       "      <td>서울시 &gt; 강남구</td>\n",
       "      <td>월 140만원</td>\n",
       "      <td>무관</td>\n",
       "      <td>대졸 이상</td>\n",
       "      <td>2025-04-29</td>\n",
       "      <td>[사내스터디]</td>\n",
       "      <td></td>\n",
       "      <td></td>\n",
       "      <td></td>\n",
       "      <td></td>\n",
       "      <td>서울</td>\n",
       "      <td>140.0</td>\n",
       "    </tr>\n",
       "    <tr>\n",
       "      <th>9</th>\n",
       "      <td>company9</td>\n",
       "      <td>마케팅 매니저</td>\n",
       "      <td>마케팅</td>\n",
       "      <td>브랜드마케팅</td>\n",
       "      <td>정규직</td>\n",
       "      <td>인천 &gt; 연수구</td>\n",
       "      <td>3,200만원</td>\n",
       "      <td>2년 이상</td>\n",
       "      <td>대졸 이상</td>\n",
       "      <td>2025-05-11</td>\n",
       "      <td>[스톡옵션]</td>\n",
       "      <td></td>\n",
       "      <td></td>\n",
       "      <td></td>\n",
       "      <td></td>\n",
       "      <td>인천</td>\n",
       "      <td>3200.0</td>\n",
       "    </tr>\n",
       "    <tr>\n",
       "      <th>11</th>\n",
       "      <td>company11</td>\n",
       "      <td>총무 인턴</td>\n",
       "      <td>경영지원</td>\n",
       "      <td>인사/총무</td>\n",
       "      <td>인턴</td>\n",
       "      <td>대구 &gt; 수성구</td>\n",
       "      <td>월 130만원</td>\n",
       "      <td>무관</td>\n",
       "      <td>무관</td>\n",
       "      <td>2025-04-26</td>\n",
       "      <td>[주5일]</td>\n",
       "      <td></td>\n",
       "      <td></td>\n",
       "      <td></td>\n",
       "      <td></td>\n",
       "      <td>대구</td>\n",
       "      <td>130.0</td>\n",
       "    </tr>\n",
       "    <tr>\n",
       "      <th>12</th>\n",
       "      <td>company12</td>\n",
       "      <td>웹 디자이너</td>\n",
       "      <td>디자인</td>\n",
       "      <td>그래픽디자인</td>\n",
       "      <td>정규직</td>\n",
       "      <td>서울시 &gt; 노원구</td>\n",
       "      <td>2,800만원</td>\n",
       "      <td>무관</td>\n",
       "      <td>대졸 이상</td>\n",
       "      <td>2025-05-12</td>\n",
       "      <td>[포트폴리오 제출]</td>\n",
       "      <td></td>\n",
       "      <td></td>\n",
       "      <td></td>\n",
       "      <td></td>\n",
       "      <td>서울</td>\n",
       "      <td>2800.0</td>\n",
       "    </tr>\n",
       "    <tr>\n",
       "      <th>13</th>\n",
       "      <td>company13</td>\n",
       "      <td>프론트엔드 개발자</td>\n",
       "      <td>IT</td>\n",
       "      <td>프론트엔드</td>\n",
       "      <td>정규직</td>\n",
       "      <td>경기 &gt; 고양시</td>\n",
       "      <td>3,800만원</td>\n",
       "      <td>2년 이상</td>\n",
       "      <td>대졸 이상</td>\n",
       "      <td>2025-05-04</td>\n",
       "      <td>[하이브리드]</td>\n",
       "      <td></td>\n",
       "      <td></td>\n",
       "      <td></td>\n",
       "      <td></td>\n",
       "      <td>고양</td>\n",
       "      <td>3800.0</td>\n",
       "    </tr>\n",
       "    <tr>\n",
       "      <th>14</th>\n",
       "      <td>company14</td>\n",
       "      <td>데이터 리서처</td>\n",
       "      <td>데이터</td>\n",
       "      <td>데이터리서치</td>\n",
       "      <td>계약직</td>\n",
       "      <td>세종시</td>\n",
       "      <td>3,000만원</td>\n",
       "      <td>1년 이상</td>\n",
       "      <td>대졸 이상</td>\n",
       "      <td>2025-05-06</td>\n",
       "      <td>[연구지원비]</td>\n",
       "      <td></td>\n",
       "      <td></td>\n",
       "      <td></td>\n",
       "      <td></td>\n",
       "      <td>세종</td>\n",
       "      <td>3000.0</td>\n",
       "    </tr>\n",
       "  </tbody>\n",
       "</table>\n",
       "</div>"
      ],
      "text/plain": [
       "      company        title job_group job_subgroup employment_type   location  \\\n",
       "0    ABC Corp   백엔드 개발자 채용        IT          백엔드             정규직  서울시 > 강남구   \n",
       "1    company1  프론트엔드 인턴 모집        IT        프론트엔드              인턴  서울시 > 마포구   \n",
       "2    company2      데이터 분석가       데이터        데이터분석             계약직   경기 > 성남시   \n",
       "3    company3       마케팅 인턴       마케팅       콘텐츠마케팅              인턴  부산 > 해운대구   \n",
       "5    company5     데이터 엔지니어       데이터     데이터엔지니어링             정규직   대전 > 유성구   \n",
       "6    company6       HR 사무직      경영지원        인사/총무             계약직  서울시 > 강서구   \n",
       "7    company7      UX 디자이너       디자인        UI/UX             정규직   경기 > 수원시   \n",
       "8    company8    데이터 분석 인턴       데이터        데이터분석              인턴  서울시 > 강남구   \n",
       "9    company9      마케팅 매니저       마케팅       브랜드마케팅             정규직   인천 > 연수구   \n",
       "11  company11        총무 인턴      경영지원        인사/총무              인턴   대구 > 수성구   \n",
       "12  company12       웹 디자이너       디자인       그래픽디자인             정규직  서울시 > 노원구   \n",
       "13  company13    프론트엔드 개발자        IT        프론트엔드             정규직   경기 > 고양시   \n",
       "14  company14      데이터 리서처       데이터       데이터리서치             계약직        세종시   \n",
       "\n",
       "       salary career education    deadline   company_tags probation  \\\n",
       "0     4,000만원  5년 이상     대졸 이상  2025-05-10   [유연근무, 자율복장]             \n",
       "1     월 150만원  5년 이상        무관  2025-04-25  [스타트업, 점심 제공]             \n",
       "2     3,500만원  1년 이상     대졸 이상  2025-05-01        [AI 기업]             \n",
       "3     월 130만원     신입        무관  2025-04-30        [MZ 기업]        협의   \n",
       "5     4,800만원  4년 이상     대졸 이상  2025-05-07    [리모트, 자기계발]             \n",
       "6   연 2,600만원     무관     고졸 이상  2025-04-28        [식대 지원]             \n",
       "7     3,000만원  2년 이상     대졸 이상  2025-05-03          [워라밸]             \n",
       "8     월 140만원     무관     대졸 이상  2025-04-29        [사내스터디]             \n",
       "9     3,200만원  2년 이상     대졸 이상  2025-05-11         [스톡옵션]             \n",
       "11    월 130만원     무관        무관  2025-04-26          [주5일]             \n",
       "12    2,800만원     무관     대졸 이상  2025-05-12     [포트폴리오 제출]             \n",
       "13    3,800만원  2년 이상     대졸 이상  2025-05-04        [하이브리드]             \n",
       "14    3,000만원  1년 이상     대졸 이상  2025-05-06        [연구지원비]             \n",
       "\n",
       "   probation_months probation_years probation_weeks city  salary_num  \n",
       "0                 3                                   서울      4000.0  \n",
       "1                                                 1   서울       150.0  \n",
       "2                                 1                   성남      3500.0  \n",
       "3                                                     부산       130.0  \n",
       "5                                                     대전      4800.0  \n",
       "6                                                     서울      2600.0  \n",
       "7                                                     수원      3000.0  \n",
       "8                                                     서울       140.0  \n",
       "9                                                     인천      3200.0  \n",
       "11                                                    대구       130.0  \n",
       "12                                                    서울      2800.0  \n",
       "13                                                    고양      3800.0  \n",
       "14                                                    세종      3000.0  "
      ]
     },
     "execution_count": 38,
     "metadata": {},
     "output_type": "execute_result"
    }
   ],
   "source": [
    "import re\n",
    "\n",
    "def parse_salary(salary):\n",
    "    salary = salary.replace(',', '')\n",
    "    \n",
    "    # 연봉\n",
    "    match_year = re.search(r'(\\d+)만원', salary)\n",
    "    if match_year:\n",
    "        return int(match_year.group(1))\n",
    "    \n",
    "    # 월급\n",
    "    match_month = re.search(r'월\\s*(\\d+)만원', salary)\n",
    "    if match_month:\n",
    "        return int(match_month.group(1)) * 12\n",
    "    \n",
    "    return None  # '협의' 등 처리 불가 항목\n",
    "\n",
    "df['salary_num'] = df['salary'].apply(parse_salary)\n",
    "df.dropna(subset=['salary_num'])"
   ]
  },
  {
   "cell_type": "code",
   "execution_count": 45,
   "id": "56299e56",
   "metadata": {},
   "outputs": [
    {
     "name": "stdout",
     "output_type": "stream",
     "text": [
      "job_group\n",
      "디자인     2900.0\n",
      "데이터     2860.0\n",
      "IT      2650.0\n",
      "마케팅     1665.0\n",
      "경영지원    1365.0\n",
      "Name: salary_num, dtype: float64\n"
     ]
    }
   ],
   "source": [
    "salary_avg = df.groupby('job_group')['salary_num'].mean().round(1).sort_values(ascending=False)\n",
    "print(salary_avg)"
   ]
  },
  {
   "cell_type": "code",
   "execution_count": 61,
   "id": "c0eb5e3c",
   "metadata": {},
   "outputs": [
    {
     "name": "stderr",
     "output_type": "stream",
     "text": [
      "/var/folders/_v/wx55df5j41zc0569fdhw7mv40000gn/T/ipykernel_849/4028765479.py:11: FutureWarning: \n",
      "\n",
      "Passing `palette` without assigning `hue` is deprecated and will be removed in v0.14.0. Assign the `x` variable to `hue` and set `legend=False` for the same effect.\n",
      "\n",
      "  ax = sns.barplot(data=df_salary, x='job_group', y='avg_salary', palette='Blues_d')\n"
     ]
    },
    {
     "data": {
      "image/png": "[encoded data removed]",
      "text/plain": [
       "<Figure size 1000x500 with 1 Axes>"
      ]
     },
     "metadata": {},
     "output_type": "display_data"
    }
   ],
   "source": [
    "import seaborn as sns\n",
    "import matplotlib.pyplot as plt\n",
    "%matplotlib inline\n",
    "\n",
    "# 직군별 평균 급여 Series → DataFrame 변환\n",
    "df_salary = salary_avg.reset_index()\n",
    "df_salary.columns = ['job_group', 'avg_salary']\n",
    "\n",
    "\n",
    "plt.figure(figsize=(10, 5))\n",
    "ax = sns.barplot(data=df_salary, x='job_group', y='avg_salary', palette='Blues_d')\n",
    "\n",
    "# ⬆️ 막대 위에 수치 표시\n",
    "for i, row in df_salary.iterrows():\n",
    "    ax.text(i, row['avg_salary'] , f\"{row['avg_salary']:.0f}만원\", \n",
    "            ha='center', va='bottom', fontsize=11, fontweight='bold', color='black')\n",
    "\n",
    "plt.title(\"직군별 평균 급여 (만원 기준, 연 환산)\")\n",
    "plt.xlabel(\"직군\")\n",
    "plt.ylabel(\"평균 급여 (만원)\")\n",
    "plt.tight_layout()\n",
    "plt.show()"
   ]
  },
  {
   "cell_type": "markdown",
   "id": "e1538e90",
   "metadata": {},
   "source": [
    "### 하위직군별 평균 연봉"
   ]
  },
  {
   "cell_type": "code",
   "execution_count": 62,
   "id": "ee652ed1",
   "metadata": {},
   "outputs": [],
   "source": [
    "# salary_num이 숫자인 상태에서 groupby\n",
    "sub_salary_avg = df.dropna(subset=['salary_num']).groupby(['job_group', 'job_subgroup'])['salary_num'].mean().round(1).reset_index()\n",
    "sub_salary_avg.columns = ['job_group', 'job_subgroup', 'avg_salary']"
   ]
  },
  {
   "cell_type": "code",
   "execution_count": 63,
   "id": "03ba2885",
   "metadata": {},
   "outputs": [
    {
     "data": {
      "image/png": "[encoded data removed]",
      "text/plain": [
       "<Figure size 1200x600 with 1 Axes>"
      ]
     },
     "metadata": {},
     "output_type": "display_data"
    }
   ],
   "source": [
    "import seaborn as sns\n",
    "import matplotlib.pyplot as plt\n",
    "\n",
    "plt.figure(figsize=(12, 6))\n",
    "sns.barplot(data=sub_salary_avg, x='job_subgroup', y='avg_salary', hue='job_group', palette='Set2')\n",
    "\n",
    "plt.title(\"대분류 직군 내 하위직군별 평균 급여 (만원 기준, 연 환산)\")\n",
    "plt.xlabel(\"하위 직군 (job_subgroup)\")\n",
    "plt.ylabel(\"평균 급여 (만원)\")\n",
    "plt.xticks(rotation=45)\n",
    "plt.tight_layout()\n",
    "plt.show()"
   ]
  }
 ],
 "metadata": {
  "kernelspec": {
   "display_name": "base",
   "language": "python",
   "name": "python3"
  },
  "language_info": {
   "codemirror_mode": {
    "name": "ipython",
    "version": 3
   },
   "file_extension": ".py",
   "mimetype": "text/x-python",
   "name": "python",
   "nbconvert_exporter": "python",
   "pygments_lexer": "ipython3",
   "version": "3.12.2"
  }
 },
 "nbformat": 4,
 "nbformat_minor": 5
}
